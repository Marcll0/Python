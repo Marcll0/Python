{
  "nbformat": 4,
  "nbformat_minor": 0,
  "metadata": {
    "colab": {
      "provenance": [],
      "authorship_tag": "ABX9TyPSi+nBv3B4xcYL2uCg8GKC",
      "include_colab_link": true
    },
    "kernelspec": {
      "name": "python3",
      "display_name": "Python 3"
    },
    "language_info": {
      "name": "python"
    }
  },
  "cells": [
    {
      "cell_type": "markdown",
      "metadata": {
        "id": "view-in-github",
        "colab_type": "text"
      },
      "source": [
        "<a href=\"https://colab.research.google.com/github/Marcll0/Python/blob/main/Estudo.ipynb\" target=\"_parent\"><img src=\"https://colab.research.google.com/assets/colab-badge.svg\" alt=\"Open In Colab\"/></a>"
      ]
    },
    {
      "cell_type": "markdown",
      "source": [
        "Um objeto é simplesmente uma coleção de dados (variáveis) e métodos (funções) que atuam sobre esses dados.\n",
        "\n",
        "Uma classe é um modelo para o objeto."
      ],
      "metadata": {
        "id": "CeqiHFc-pyet"
      }
    },
    {
      "cell_type": "code",
      "execution_count": 3,
      "metadata": {
        "id": "JeX4UwFVnw5j"
      },
      "outputs": [],
      "source": [
        "class Pessoa:\n",
        "  \"Isto é uma classe nova chamada Pessoa\"\n",
        "  idade = 15\n",
        "  def saudacao(self):\n",
        "    print(\"Olá Pessoas!\")"
      ]
    },
    {
      "cell_type": "code",
      "source": [
        "print(Pessoa.idade)"
      ],
      "metadata": {
        "colab": {
          "base_uri": "https://localhost:8080/"
        },
        "id": "9YRbSPXxpjv9",
        "outputId": "d68d69d3-9d75-46d4-cf0d-bc8a7da34d23"
      },
      "execution_count": 4,
      "outputs": [
        {
          "output_type": "execute_result",
          "data": {
            "text/plain": [
              "15"
            ]
          },
          "metadata": {},
          "execution_count": 4
        }
      ]
    },
    {
      "cell_type": "code",
      "source": [
        "print(Pessoa.saudacao)"
      ],
      "metadata": {
        "colab": {
          "base_uri": "https://localhost:8080/"
        },
        "id": "1TDOBeWeqlan",
        "outputId": "04ed7966-f152-498a-947f-b72da58cf449"
      },
      "execution_count": 5,
      "outputs": [
        {
          "output_type": "stream",
          "name": "stdout",
          "text": [
            "<function Pessoa.saudacao at 0x7f5f83080ca0>\n"
          ]
        }
      ]
    },
    {
      "cell_type": "code",
      "source": [
        "print(Pessoa.__doc__)"
      ],
      "metadata": {
        "colab": {
          "base_uri": "https://localhost:8080/"
        },
        "id": "lNS7y3Jtqwm2",
        "outputId": "95fc37f1-fee5-4dc4-a692-ed448f0c1e1b"
      },
      "execution_count": 6,
      "outputs": [
        {
          "output_type": "stream",
          "name": "stdout",
          "text": [
            "Isto é uma classe nova chamada Pessoa\n"
          ]
        }
      ]
    },
    {
      "cell_type": "code",
      "source": [
        "matheus = Pessoa()"
      ],
      "metadata": {
        "id": "44qZFpGDq36h"
      },
      "execution_count": 7,
      "outputs": []
    },
    {
      "cell_type": "code",
      "source": [
        "print(matheus.idade)"
      ],
      "metadata": {
        "colab": {
          "base_uri": "https://localhost:8080/"
        },
        "id": "76ZmDFJ6q4st",
        "outputId": "6faab53f-b339-4f85-e419-32858dabbff7"
      },
      "execution_count": 8,
      "outputs": [
        {
          "output_type": "stream",
          "name": "stdout",
          "text": [
            "15\n"
          ]
        }
      ]
    },
    {
      "cell_type": "code",
      "source": [
        "print(matheus.saudacao)"
      ],
      "metadata": {
        "colab": {
          "base_uri": "https://localhost:8080/"
        },
        "id": "ZtFAFic_rHMq",
        "outputId": "796c029b-5417-4cb7-da33-460fa31ffb40"
      },
      "execution_count": 9,
      "outputs": [
        {
          "output_type": "stream",
          "name": "stdout",
          "text": [
            "<bound method Pessoa.saudacao of <__main__.Pessoa object at 0x7f5f8307dab0>>\n"
          ]
        }
      ]
    },
    {
      "cell_type": "code",
      "source": [
        "matheus.saudacao()"
      ],
      "metadata": {
        "colab": {
          "base_uri": "https://localhost:8080/"
        },
        "id": "a8l7UbM5rIp7",
        "outputId": "671910a7-398f-4cb3-a6f4-36cde54ca16b"
      },
      "execution_count": 11,
      "outputs": [
        {
          "output_type": "stream",
          "name": "stdout",
          "text": [
            "Olá Pessoas!\n"
          ]
        }
      ]
    },
    {
      "cell_type": "markdown",
      "source": [
        "Há um interesse particular na função __init__().\n",
        "Esse construtor é chamado sempre que um novo objeto dessa classe é instanciado.\n",
        "\n",
        "Em Programação Orientada a Objetos (POO), normalmente é utilizado para inicializar todas as variáveis."
      ],
      "metadata": {
        "id": "E8-Zmmm_rU2z"
      }
    },
    {
      "cell_type": "code",
      "source": [
        "import math\n",
        "\n",
        "class Esfera:\n",
        "\n",
        "  def __init__(self,cor,raio):\n",
        "    self.cor = cor\n",
        "    self.raio = raio\n",
        "\n",
        "  def volume(self):\n",
        "    vol =(4/3)*math.pi*(self.raio**3)\n",
        "    return vol\n",
        "  def area(self):\n",
        "    ar = 4*math.pi*(self.raio**2)\n",
        "    return ar\n",
        "\n",
        "bola1 = Esfera(\"vermelha\",4)\n",
        "bola2 = Esfera(\"azul\",7)\n",
        "\n",
        "print(f'O volume da bola 1 é {bola1.volume()}cm^3')\n",
        "print(f'A área superﬁcial da bola 1 é {bola1.area()}cm^2')\n",
        "print(bola1.volume())\n",
        "print(Esfera.volume(bola1))"
      ],
      "metadata": {
        "colab": {
          "base_uri": "https://localhost:8080/"
        },
        "id": "sMNitMturVhF",
        "outputId": "124365d0-7e3f-46fb-ed91-74149b34816e"
      },
      "execution_count": 13,
      "outputs": [
        {
          "output_type": "stream",
          "name": "stdout",
          "text": [
            "O volume da bola 1 é 268.082573106329cm^3\n",
            "A área superﬁcial da bola 1 é 201.06192982974676cm^2\n",
            "268.082573106329\n",
            "268.082573106329\n"
          ]
        }
      ]
    },
    {
      "cell_type": "markdown",
      "source": [
        "É possível criar funcionalidades dentro de um arquivo .py, que mais tarde pode ser importado em outros arquivos.\n",
        "\n",
        "Por exemplo, você precisa criar uma classe chamada Televisor, cujos os atributos são"
      ],
      "metadata": {
        "id": "Jz72geoCuIxK"
      }
    },
    {
      "cell_type": "code",
      "source": [
        "class Televisor:\n",
        "\n",
        "  def __init__(self,fab,modelo):\n",
        "    self.fabricante = fab\n",
        "    self.modelo = modelo\n",
        "    self.canal_atual = None\n",
        "    self.lista_de_canais = []\n",
        "    self.volume = 20\n",
        "\n",
        "  def aumentaVolume(self,valor):\n",
        "    if self.volume + valor <= 100:\n",
        "      self.volume += valor\n",
        "    else:\n",
        "      self.volume = 100\n",
        "  def diminuiVolume(self,valor):\n",
        "    if  self.volume - valor >= 0:\n",
        "      self.volume -= valor\n",
        "    else:\n",
        "      self.volume = 0\n",
        "\n",
        "  def trocaCanal(self,canal):\n",
        "    if canal in self.lista_de_canais:\n",
        "      self.canal_atual = canal\n",
        "\n",
        "  def sintonizaCanal(self,canal):\n",
        "    if canal not in self.lista_de_canais:\n",
        "      self.lista_de_canais.append(canal)"
      ],
      "metadata": {
        "id": "lF7c6bguuMKn"
      },
      "execution_count": 14,
      "outputs": []
    },
    {
      "cell_type": "markdown",
      "source": [
        "A partir disso, foi dada mais uma missão: criar uma classe ControleRemoto, cujo atributo é televisão (isto é, recebe um objeto da classe Televisor). Neste caso, você deve criar métodos para aumentar/diminuir volume, trocar e sintonizar um novo canal, que adiciona um novo canal à lista de canais (somente se esse canal não estiver nessa lista)."
      ],
      "metadata": {
        "id": "7c2hzLHHv_bI"
      }
    },
    {
      "cell_type": "code",
      "source": [
        "class ControleRemoto:\n",
        "  def __init__ (self,tv):\n",
        "    self.tv = tv\n",
        "  def aumentaVolume(self):\n",
        "    self.tv.aumentaVolume(90)\n",
        "  def diminuiVolume(self):\n",
        "    self.tv.diminuiVolume(90)\n",
        "  def trocaCanal(self,canal):\n",
        "    self.tv.trocaCanal(canal)\n",
        "  def sintonizaCanal(self,canal):\n",
        "    self.tv.sintonizaCanal(canal)"
      ],
      "metadata": {
        "id": "TnTp0bdWwAKX"
      },
      "execution_count": 15,
      "outputs": []
    },
    {
      "cell_type": "markdown",
      "source": [
        "Sendo que tv é um atributo de controle remoto e simboliza um objeto da classe Televisor, você pode, então, imaginar que o código completo fique da seguinte forma:"
      ],
      "metadata": {
        "id": "PTQ1jUhJ00br"
      }
    },
    {
      "cell_type": "code",
      "source": [
        "class Televisor:\n",
        "  def __init__ (self,fab,modelo):\n",
        "    self.fabricante = fab\n",
        "    self.modelo = modelo\n",
        "    self.canal_atual = None\n",
        "    self.lista_de_canais = []\n",
        "    self.volume = 20\n",
        "\n",
        "  def aumentaVolume(self,valor):\n",
        "    if self.volume+valor<=100:\n",
        "      self.volume += valor\n",
        "    else:\n",
        "      self.volume = 100\n",
        "\n",
        "  def diminuiVolume(self,valor):\n",
        "    if self.volume - valor >= 0:\n",
        "      self.volume -= valor\n",
        "    else:\n",
        "      self.volume = 0\n",
        "  def trocaCanal(self,canal):\n",
        "    if canal in self.lista_de_canais:\n",
        "      self.canal_atual = canal\n",
        "  def sintonizaCanal(self,canal):\n",
        "    if canal not in self.lista_de_canais:\n",
        "      self.lista_de_canais.append(canal)\n",
        "\n",
        "class ControleRemoto:\n",
        "  def __init__ (self,tv):\n",
        "    self.tv = tv\n",
        "  def aumentaVolume(self):\n",
        "    self.tv.aumentaVolume(90)\n",
        "  def diminuiVolume(self):\n",
        "    self.tv.diminuiVolume(90)\n",
        "  def trocaCanal(self,canal):\n",
        "    self.tv.trocaCanal(canal)\n",
        "  def sintonizaCanal(self,canal):\n",
        "    self.tv.sintonizaCanal(canal)"
      ],
      "metadata": {
        "id": "JXoyhByyuJhU"
      },
      "execution_count": 17,
      "outputs": []
    },
    {
      "cell_type": "markdown",
      "source": [
        "Dado esse problema, imagine agora que, além de criar essa funcionalidade, o projeto precisa ser feito de tal maneira que os testes dessas funcionalidades sejam feitos em um arquivo .py à parte do arquivo das funcionalidades.\n",
        "\n",
        "Como fazer para testar essas funcionalidades em um arquivo à parte?\n",
        "\n",
        "A resposta é bem simples: basta criar dois arquivos .py na mesma pasta de trabalho: o primeiro vai conter o código acima, e o segundo vai importar as classes criadas.\n",
        "\n",
        "Supondo que o primeiro arquivo se chame: funcionalidades.py, o segundo arquivo (que pode se chamar: teste.py) vai importar as funcionalidades do seguinte modo:"
      ],
      "metadata": {
        "id": "pMR13MK03Ui8"
      }
    },
    {
      "cell_type": "code",
      "source": [
        "from funcionalidades import*\n",
        "\n",
        "tv = Televisor(\"SONY\",\"SONY-123\")\n",
        "\n",
        "controle = ControleRemoto(tv)\n",
        "\n",
        "controle.sintonizaCanal(\"SBT\")\n",
        "controle.trocaCanal(\"SBT\")\n",
        "print(tv.canal_atual)"
      ],
      "metadata": {
        "colab": {
          "base_uri": "https://localhost:8080/"
        },
        "id": "5PeKHPvb3T_W",
        "outputId": "2311b246-0842-4fcc-975e-422e20949fdc"
      },
      "execution_count": 18,
      "outputs": [
        {
          "output_type": "stream",
          "name": "stdout",
          "text": [
            "SBT\n"
          ]
        }
      ]
    }
  ]
}