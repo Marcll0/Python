{
  "nbformat": 4,
  "nbformat_minor": 0,
  "metadata": {
    "colab": {
      "provenance": []
    },
    "kernelspec": {
      "name": "python3",
      "display_name": "Python 3"
    },
    "language_info": {
      "name": "python"
    }
  },
  "cells": [
    {
      "cell_type": "code",
      "source": [
        "import pandas as pd \n",
        "import matplotlib.pyplot as plt\n",
        "import seaborn as sns \n",
        "import numpy as np \n",
        "#packages  \n",
        "import scipy.stats as stats \n",
        "from scipy.stats import mannwhitneyu, ttest_ind"
      ],
      "metadata": {
        "id": "7lTrR6mkUXhG"
      },
      "execution_count": 74,
      "outputs": []
    },
    {
      "cell_type": "code",
      "execution_count": 75,
      "metadata": {
        "colab": {
          "base_uri": "https://localhost:8080/",
          "height": 386
        },
        "id": "350Za07WUExd",
        "outputId": "f1d0a833-8026-4f5f-a41f-4b2f89eb54b9"
      },
      "outputs": [
        {
          "output_type": "execute_result",
          "data": {
            "text/plain": [
              "   customerID  gender  SeniorCitizen Partner Dependents  tenure PhoneService  \\\n",
              "0  7590-VHVEG  Female              0     Yes         No       1           No   \n",
              "1  5575-GNVDE    Male              0      No         No      34          Yes   \n",
              "2  3668-QPYBK    Male              0      No         No       2          Yes   \n",
              "3  7795-CFOCW    Male              0      No         No      45           No   \n",
              "4  9237-HQITU  Female              0      No         No       2          Yes   \n",
              "\n",
              "      MultipleLines InternetService OnlineSecurity  ... DeviceProtection  \\\n",
              "0  No phone service             DSL             No  ...               No   \n",
              "1                No             DSL            Yes  ...              Yes   \n",
              "2                No             DSL            Yes  ...               No   \n",
              "3  No phone service             DSL            Yes  ...              Yes   \n",
              "4                No     Fiber optic             No  ...               No   \n",
              "\n",
              "  TechSupport StreamingTV StreamingMovies        Contract PaperlessBilling  \\\n",
              "0          No          No              No  Month-to-month              Yes   \n",
              "1          No          No              No        One year               No   \n",
              "2          No          No              No  Month-to-month              Yes   \n",
              "3         Yes          No              No        One year               No   \n",
              "4          No          No              No  Month-to-month              Yes   \n",
              "\n",
              "               PaymentMethod MonthlyCharges  TotalCharges Churn  \n",
              "0           Electronic check          29.85         29.85    No  \n",
              "1               Mailed check          56.95        1889.5    No  \n",
              "2               Mailed check          53.85        108.15   Yes  \n",
              "3  Bank transfer (automatic)          42.30       1840.75    No  \n",
              "4           Electronic check          70.70        151.65   Yes  \n",
              "\n",
              "[5 rows x 21 columns]"
            ],
            "text/html": [
              "\n",
              "  <div id=\"df-01e18997-7ec5-4321-bd42-a713da34ac30\">\n",
              "    <div class=\"colab-df-container\">\n",
              "      <div>\n",
              "<style scoped>\n",
              "    .dataframe tbody tr th:only-of-type {\n",
              "        vertical-align: middle;\n",
              "    }\n",
              "\n",
              "    .dataframe tbody tr th {\n",
              "        vertical-align: top;\n",
              "    }\n",
              "\n",
              "    .dataframe thead th {\n",
              "        text-align: right;\n",
              "    }\n",
              "</style>\n",
              "<table border=\"1\" class=\"dataframe\">\n",
              "  <thead>\n",
              "    <tr style=\"text-align: right;\">\n",
              "      <th></th>\n",
              "      <th>customerID</th>\n",
              "      <th>gender</th>\n",
              "      <th>SeniorCitizen</th>\n",
              "      <th>Partner</th>\n",
              "      <th>Dependents</th>\n",
              "      <th>tenure</th>\n",
              "      <th>PhoneService</th>\n",
              "      <th>MultipleLines</th>\n",
              "      <th>InternetService</th>\n",
              "      <th>OnlineSecurity</th>\n",
              "      <th>...</th>\n",
              "      <th>DeviceProtection</th>\n",
              "      <th>TechSupport</th>\n",
              "      <th>StreamingTV</th>\n",
              "      <th>StreamingMovies</th>\n",
              "      <th>Contract</th>\n",
              "      <th>PaperlessBilling</th>\n",
              "      <th>PaymentMethod</th>\n",
              "      <th>MonthlyCharges</th>\n",
              "      <th>TotalCharges</th>\n",
              "      <th>Churn</th>\n",
              "    </tr>\n",
              "  </thead>\n",
              "  <tbody>\n",
              "    <tr>\n",
              "      <th>0</th>\n",
              "      <td>7590-VHVEG</td>\n",
              "      <td>Female</td>\n",
              "      <td>0</td>\n",
              "      <td>Yes</td>\n",
              "      <td>No</td>\n",
              "      <td>1</td>\n",
              "      <td>No</td>\n",
              "      <td>No phone service</td>\n",
              "      <td>DSL</td>\n",
              "      <td>No</td>\n",
              "      <td>...</td>\n",
              "      <td>No</td>\n",
              "      <td>No</td>\n",
              "      <td>No</td>\n",
              "      <td>No</td>\n",
              "      <td>Month-to-month</td>\n",
              "      <td>Yes</td>\n",
              "      <td>Electronic check</td>\n",
              "      <td>29.85</td>\n",
              "      <td>29.85</td>\n",
              "      <td>No</td>\n",
              "    </tr>\n",
              "    <tr>\n",
              "      <th>1</th>\n",
              "      <td>5575-GNVDE</td>\n",
              "      <td>Male</td>\n",
              "      <td>0</td>\n",
              "      <td>No</td>\n",
              "      <td>No</td>\n",
              "      <td>34</td>\n",
              "      <td>Yes</td>\n",
              "      <td>No</td>\n",
              "      <td>DSL</td>\n",
              "      <td>Yes</td>\n",
              "      <td>...</td>\n",
              "      <td>Yes</td>\n",
              "      <td>No</td>\n",
              "      <td>No</td>\n",
              "      <td>No</td>\n",
              "      <td>One year</td>\n",
              "      <td>No</td>\n",
              "      <td>Mailed check</td>\n",
              "      <td>56.95</td>\n",
              "      <td>1889.5</td>\n",
              "      <td>No</td>\n",
              "    </tr>\n",
              "    <tr>\n",
              "      <th>2</th>\n",
              "      <td>3668-QPYBK</td>\n",
              "      <td>Male</td>\n",
              "      <td>0</td>\n",
              "      <td>No</td>\n",
              "      <td>No</td>\n",
              "      <td>2</td>\n",
              "      <td>Yes</td>\n",
              "      <td>No</td>\n",
              "      <td>DSL</td>\n",
              "      <td>Yes</td>\n",
              "      <td>...</td>\n",
              "      <td>No</td>\n",
              "      <td>No</td>\n",
              "      <td>No</td>\n",
              "      <td>No</td>\n",
              "      <td>Month-to-month</td>\n",
              "      <td>Yes</td>\n",
              "      <td>Mailed check</td>\n",
              "      <td>53.85</td>\n",
              "      <td>108.15</td>\n",
              "      <td>Yes</td>\n",
              "    </tr>\n",
              "    <tr>\n",
              "      <th>3</th>\n",
              "      <td>7795-CFOCW</td>\n",
              "      <td>Male</td>\n",
              "      <td>0</td>\n",
              "      <td>No</td>\n",
              "      <td>No</td>\n",
              "      <td>45</td>\n",
              "      <td>No</td>\n",
              "      <td>No phone service</td>\n",
              "      <td>DSL</td>\n",
              "      <td>Yes</td>\n",
              "      <td>...</td>\n",
              "      <td>Yes</td>\n",
              "      <td>Yes</td>\n",
              "      <td>No</td>\n",
              "      <td>No</td>\n",
              "      <td>One year</td>\n",
              "      <td>No</td>\n",
              "      <td>Bank transfer (automatic)</td>\n",
              "      <td>42.30</td>\n",
              "      <td>1840.75</td>\n",
              "      <td>No</td>\n",
              "    </tr>\n",
              "    <tr>\n",
              "      <th>4</th>\n",
              "      <td>9237-HQITU</td>\n",
              "      <td>Female</td>\n",
              "      <td>0</td>\n",
              "      <td>No</td>\n",
              "      <td>No</td>\n",
              "      <td>2</td>\n",
              "      <td>Yes</td>\n",
              "      <td>No</td>\n",
              "      <td>Fiber optic</td>\n",
              "      <td>No</td>\n",
              "      <td>...</td>\n",
              "      <td>No</td>\n",
              "      <td>No</td>\n",
              "      <td>No</td>\n",
              "      <td>No</td>\n",
              "      <td>Month-to-month</td>\n",
              "      <td>Yes</td>\n",
              "      <td>Electronic check</td>\n",
              "      <td>70.70</td>\n",
              "      <td>151.65</td>\n",
              "      <td>Yes</td>\n",
              "    </tr>\n",
              "  </tbody>\n",
              "</table>\n",
              "<p>5 rows × 21 columns</p>\n",
              "</div>\n",
              "      <button class=\"colab-df-convert\" onclick=\"convertToInteractive('df-01e18997-7ec5-4321-bd42-a713da34ac30')\"\n",
              "              title=\"Convert this dataframe to an interactive table.\"\n",
              "              style=\"display:none;\">\n",
              "        \n",
              "  <svg xmlns=\"http://www.w3.org/2000/svg\" height=\"24px\"viewBox=\"0 0 24 24\"\n",
              "       width=\"24px\">\n",
              "    <path d=\"M0 0h24v24H0V0z\" fill=\"none\"/>\n",
              "    <path d=\"M18.56 5.44l.94 2.06.94-2.06 2.06-.94-2.06-.94-.94-2.06-.94 2.06-2.06.94zm-11 1L8.5 8.5l.94-2.06 2.06-.94-2.06-.94L8.5 2.5l-.94 2.06-2.06.94zm10 10l.94 2.06.94-2.06 2.06-.94-2.06-.94-.94-2.06-.94 2.06-2.06.94z\"/><path d=\"M17.41 7.96l-1.37-1.37c-.4-.4-.92-.59-1.43-.59-.52 0-1.04.2-1.43.59L10.3 9.45l-7.72 7.72c-.78.78-.78 2.05 0 2.83L4 21.41c.39.39.9.59 1.41.59.51 0 1.02-.2 1.41-.59l7.78-7.78 2.81-2.81c.8-.78.8-2.07 0-2.86zM5.41 20L4 18.59l7.72-7.72 1.47 1.35L5.41 20z\"/>\n",
              "  </svg>\n",
              "      </button>\n",
              "      \n",
              "  <style>\n",
              "    .colab-df-container {\n",
              "      display:flex;\n",
              "      flex-wrap:wrap;\n",
              "      gap: 12px;\n",
              "    }\n",
              "\n",
              "    .colab-df-convert {\n",
              "      background-color: #E8F0FE;\n",
              "      border: none;\n",
              "      border-radius: 50%;\n",
              "      cursor: pointer;\n",
              "      display: none;\n",
              "      fill: #1967D2;\n",
              "      height: 32px;\n",
              "      padding: 0 0 0 0;\n",
              "      width: 32px;\n",
              "    }\n",
              "\n",
              "    .colab-df-convert:hover {\n",
              "      background-color: #E2EBFA;\n",
              "      box-shadow: 0px 1px 2px rgba(60, 64, 67, 0.3), 0px 1px 3px 1px rgba(60, 64, 67, 0.15);\n",
              "      fill: #174EA6;\n",
              "    }\n",
              "\n",
              "    [theme=dark] .colab-df-convert {\n",
              "      background-color: #3B4455;\n",
              "      fill: #D2E3FC;\n",
              "    }\n",
              "\n",
              "    [theme=dark] .colab-df-convert:hover {\n",
              "      background-color: #434B5C;\n",
              "      box-shadow: 0px 1px 3px 1px rgba(0, 0, 0, 0.15);\n",
              "      filter: drop-shadow(0px 1px 2px rgba(0, 0, 0, 0.3));\n",
              "      fill: #FFFFFF;\n",
              "    }\n",
              "  </style>\n",
              "\n",
              "      <script>\n",
              "        const buttonEl =\n",
              "          document.querySelector('#df-01e18997-7ec5-4321-bd42-a713da34ac30 button.colab-df-convert');\n",
              "        buttonEl.style.display =\n",
              "          google.colab.kernel.accessAllowed ? 'block' : 'none';\n",
              "\n",
              "        async function convertToInteractive(key) {\n",
              "          const element = document.querySelector('#df-01e18997-7ec5-4321-bd42-a713da34ac30');\n",
              "          const dataTable =\n",
              "            await google.colab.kernel.invokeFunction('convertToInteractive',\n",
              "                                                     [key], {});\n",
              "          if (!dataTable) return;\n",
              "\n",
              "          const docLinkHtml = 'Like what you see? Visit the ' +\n",
              "            '<a target=\"_blank\" href=https://colab.research.google.com/notebooks/data_table.ipynb>data table notebook</a>'\n",
              "            + ' to learn more about interactive tables.';\n",
              "          element.innerHTML = '';\n",
              "          dataTable['output_type'] = 'display_data';\n",
              "          await google.colab.output.renderOutput(dataTable, element);\n",
              "          const docLink = document.createElement('div');\n",
              "          docLink.innerHTML = docLinkHtml;\n",
              "          element.appendChild(docLink);\n",
              "        }\n",
              "      </script>\n",
              "    </div>\n",
              "  </div>\n",
              "  "
            ]
          },
          "metadata": {},
          "execution_count": 75
        }
      ],
      "source": [
        "# import data\n",
        "'''\n",
        "Os dados são originalmente do desenvolvedor IBM e abordam um problema típico de uma empresa de telecomunicações. \n",
        "O conjunto de dados completo pode ser encontrado no link abaixo.\n",
        "Embora não haja descrição explícita dos dados, os nomes das colunas nos permitem um bom entendimento sobre o problema.\n",
        "'''\n",
        "\n",
        "data_path = \"https://raw.githubusercontent.com/carlosfab/dsnp2/master/datasets/WA_Fn-UseC_-Telco-Customer-Churn.csv\"\n",
        "df = pd.read_csv(data_path)\n",
        "df.head()"
      ]
    },
    {
      "cell_type": "code",
      "source": [
        "'''\n",
        "Na análise exploratória faço algumas observações e reconheço alguns padrões de comportamento para clientes que continuam na empresa (ativos)\n",
        "e clientes que cancelam o serviço (clientes churn).\n",
        "'''"
      ],
      "metadata": {
        "colab": {
          "base_uri": "https://localhost:8080/",
          "height": 53
        },
        "id": "0YnPLsWhUdPE",
        "outputId": "57ecb0f4-6251-49dd-8b71-16ac936989db"
      },
      "execution_count": 76,
      "outputs": [
        {
          "output_type": "execute_result",
          "data": {
            "text/plain": [
              "'\\nNa análise exploratória faço algumas observações e reconheço alguns padrões de comportamento para clientes que continuam na empresa (ativos)\\ne clientes que cancelam o serviço (clientes churn).\\n'"
            ],
            "application/vnd.google.colaboratory.intrinsic+json": {
              "type": "string"
            }
          },
          "metadata": {},
          "execution_count": 76
        }
      ]
    },
    {
      "cell_type": "code",
      "source": [
        "## Análise exploratória\n",
        "# criar um dataframe auxiliar para analisar os dados ausentes\n",
        "cons = pd.DataFrame({\n",
        "                    'type': df.dtypes,\n",
        "                    'missing' : df.isna().sum(),\n",
        "                    'size' : df.shape[0],\n",
        "                    'unique': df.nunique()})\n",
        "cons['percentual'] = round(cons['missing'] / cons['size'],2)\n",
        "cons"
      ],
      "metadata": {
        "colab": {
          "base_uri": "https://localhost:8080/",
          "height": 708
        },
        "id": "_Bm0ABoPVrCD",
        "outputId": "eeadfb63-4130-4982-cc0a-d641ab5e8a57"
      },
      "execution_count": 77,
      "outputs": [
        {
          "output_type": "execute_result",
          "data": {
            "text/plain": [
              "                     type  missing  size  unique  percentual\n",
              "customerID         object        0  7043    7043         0.0\n",
              "gender             object        0  7043       2         0.0\n",
              "SeniorCitizen       int64        0  7043       2         0.0\n",
              "Partner            object        0  7043       2         0.0\n",
              "Dependents         object        0  7043       2         0.0\n",
              "tenure              int64        0  7043      73         0.0\n",
              "PhoneService       object        0  7043       2         0.0\n",
              "MultipleLines      object        0  7043       3         0.0\n",
              "InternetService    object        0  7043       3         0.0\n",
              "OnlineSecurity     object        0  7043       3         0.0\n",
              "OnlineBackup       object        0  7043       3         0.0\n",
              "DeviceProtection   object        0  7043       3         0.0\n",
              "TechSupport        object        0  7043       3         0.0\n",
              "StreamingTV        object        0  7043       3         0.0\n",
              "StreamingMovies    object        0  7043       3         0.0\n",
              "Contract           object        0  7043       3         0.0\n",
              "PaperlessBilling   object        0  7043       2         0.0\n",
              "PaymentMethod      object        0  7043       4         0.0\n",
              "MonthlyCharges    float64        0  7043    1585         0.0\n",
              "TotalCharges       object        0  7043    6531         0.0\n",
              "Churn              object        0  7043       2         0.0"
            ],
            "text/html": [
              "\n",
              "  <div id=\"df-f948db20-caf9-4fb4-9b12-5e3b14bdb8b3\">\n",
              "    <div class=\"colab-df-container\">\n",
              "      <div>\n",
              "<style scoped>\n",
              "    .dataframe tbody tr th:only-of-type {\n",
              "        vertical-align: middle;\n",
              "    }\n",
              "\n",
              "    .dataframe tbody tr th {\n",
              "        vertical-align: top;\n",
              "    }\n",
              "\n",
              "    .dataframe thead th {\n",
              "        text-align: right;\n",
              "    }\n",
              "</style>\n",
              "<table border=\"1\" class=\"dataframe\">\n",
              "  <thead>\n",
              "    <tr style=\"text-align: right;\">\n",
              "      <th></th>\n",
              "      <th>type</th>\n",
              "      <th>missing</th>\n",
              "      <th>size</th>\n",
              "      <th>unique</th>\n",
              "      <th>percentual</th>\n",
              "    </tr>\n",
              "  </thead>\n",
              "  <tbody>\n",
              "    <tr>\n",
              "      <th>customerID</th>\n",
              "      <td>object</td>\n",
              "      <td>0</td>\n",
              "      <td>7043</td>\n",
              "      <td>7043</td>\n",
              "      <td>0.0</td>\n",
              "    </tr>\n",
              "    <tr>\n",
              "      <th>gender</th>\n",
              "      <td>object</td>\n",
              "      <td>0</td>\n",
              "      <td>7043</td>\n",
              "      <td>2</td>\n",
              "      <td>0.0</td>\n",
              "    </tr>\n",
              "    <tr>\n",
              "      <th>SeniorCitizen</th>\n",
              "      <td>int64</td>\n",
              "      <td>0</td>\n",
              "      <td>7043</td>\n",
              "      <td>2</td>\n",
              "      <td>0.0</td>\n",
              "    </tr>\n",
              "    <tr>\n",
              "      <th>Partner</th>\n",
              "      <td>object</td>\n",
              "      <td>0</td>\n",
              "      <td>7043</td>\n",
              "      <td>2</td>\n",
              "      <td>0.0</td>\n",
              "    </tr>\n",
              "    <tr>\n",
              "      <th>Dependents</th>\n",
              "      <td>object</td>\n",
              "      <td>0</td>\n",
              "      <td>7043</td>\n",
              "      <td>2</td>\n",
              "      <td>0.0</td>\n",
              "    </tr>\n",
              "    <tr>\n",
              "      <th>tenure</th>\n",
              "      <td>int64</td>\n",
              "      <td>0</td>\n",
              "      <td>7043</td>\n",
              "      <td>73</td>\n",
              "      <td>0.0</td>\n",
              "    </tr>\n",
              "    <tr>\n",
              "      <th>PhoneService</th>\n",
              "      <td>object</td>\n",
              "      <td>0</td>\n",
              "      <td>7043</td>\n",
              "      <td>2</td>\n",
              "      <td>0.0</td>\n",
              "    </tr>\n",
              "    <tr>\n",
              "      <th>MultipleLines</th>\n",
              "      <td>object</td>\n",
              "      <td>0</td>\n",
              "      <td>7043</td>\n",
              "      <td>3</td>\n",
              "      <td>0.0</td>\n",
              "    </tr>\n",
              "    <tr>\n",
              "      <th>InternetService</th>\n",
              "      <td>object</td>\n",
              "      <td>0</td>\n",
              "      <td>7043</td>\n",
              "      <td>3</td>\n",
              "      <td>0.0</td>\n",
              "    </tr>\n",
              "    <tr>\n",
              "      <th>OnlineSecurity</th>\n",
              "      <td>object</td>\n",
              "      <td>0</td>\n",
              "      <td>7043</td>\n",
              "      <td>3</td>\n",
              "      <td>0.0</td>\n",
              "    </tr>\n",
              "    <tr>\n",
              "      <th>OnlineBackup</th>\n",
              "      <td>object</td>\n",
              "      <td>0</td>\n",
              "      <td>7043</td>\n",
              "      <td>3</td>\n",
              "      <td>0.0</td>\n",
              "    </tr>\n",
              "    <tr>\n",
              "      <th>DeviceProtection</th>\n",
              "      <td>object</td>\n",
              "      <td>0</td>\n",
              "      <td>7043</td>\n",
              "      <td>3</td>\n",
              "      <td>0.0</td>\n",
              "    </tr>\n",
              "    <tr>\n",
              "      <th>TechSupport</th>\n",
              "      <td>object</td>\n",
              "      <td>0</td>\n",
              "      <td>7043</td>\n",
              "      <td>3</td>\n",
              "      <td>0.0</td>\n",
              "    </tr>\n",
              "    <tr>\n",
              "      <th>StreamingTV</th>\n",
              "      <td>object</td>\n",
              "      <td>0</td>\n",
              "      <td>7043</td>\n",
              "      <td>3</td>\n",
              "      <td>0.0</td>\n",
              "    </tr>\n",
              "    <tr>\n",
              "      <th>StreamingMovies</th>\n",
              "      <td>object</td>\n",
              "      <td>0</td>\n",
              "      <td>7043</td>\n",
              "      <td>3</td>\n",
              "      <td>0.0</td>\n",
              "    </tr>\n",
              "    <tr>\n",
              "      <th>Contract</th>\n",
              "      <td>object</td>\n",
              "      <td>0</td>\n",
              "      <td>7043</td>\n",
              "      <td>3</td>\n",
              "      <td>0.0</td>\n",
              "    </tr>\n",
              "    <tr>\n",
              "      <th>PaperlessBilling</th>\n",
              "      <td>object</td>\n",
              "      <td>0</td>\n",
              "      <td>7043</td>\n",
              "      <td>2</td>\n",
              "      <td>0.0</td>\n",
              "    </tr>\n",
              "    <tr>\n",
              "      <th>PaymentMethod</th>\n",
              "      <td>object</td>\n",
              "      <td>0</td>\n",
              "      <td>7043</td>\n",
              "      <td>4</td>\n",
              "      <td>0.0</td>\n",
              "    </tr>\n",
              "    <tr>\n",
              "      <th>MonthlyCharges</th>\n",
              "      <td>float64</td>\n",
              "      <td>0</td>\n",
              "      <td>7043</td>\n",
              "      <td>1585</td>\n",
              "      <td>0.0</td>\n",
              "    </tr>\n",
              "    <tr>\n",
              "      <th>TotalCharges</th>\n",
              "      <td>object</td>\n",
              "      <td>0</td>\n",
              "      <td>7043</td>\n",
              "      <td>6531</td>\n",
              "      <td>0.0</td>\n",
              "    </tr>\n",
              "    <tr>\n",
              "      <th>Churn</th>\n",
              "      <td>object</td>\n",
              "      <td>0</td>\n",
              "      <td>7043</td>\n",
              "      <td>2</td>\n",
              "      <td>0.0</td>\n",
              "    </tr>\n",
              "  </tbody>\n",
              "</table>\n",
              "</div>\n",
              "      <button class=\"colab-df-convert\" onclick=\"convertToInteractive('df-f948db20-caf9-4fb4-9b12-5e3b14bdb8b3')\"\n",
              "              title=\"Convert this dataframe to an interactive table.\"\n",
              "              style=\"display:none;\">\n",
              "        \n",
              "  <svg xmlns=\"http://www.w3.org/2000/svg\" height=\"24px\"viewBox=\"0 0 24 24\"\n",
              "       width=\"24px\">\n",
              "    <path d=\"M0 0h24v24H0V0z\" fill=\"none\"/>\n",
              "    <path d=\"M18.56 5.44l.94 2.06.94-2.06 2.06-.94-2.06-.94-.94-2.06-.94 2.06-2.06.94zm-11 1L8.5 8.5l.94-2.06 2.06-.94-2.06-.94L8.5 2.5l-.94 2.06-2.06.94zm10 10l.94 2.06.94-2.06 2.06-.94-2.06-.94-.94-2.06-.94 2.06-2.06.94z\"/><path d=\"M17.41 7.96l-1.37-1.37c-.4-.4-.92-.59-1.43-.59-.52 0-1.04.2-1.43.59L10.3 9.45l-7.72 7.72c-.78.78-.78 2.05 0 2.83L4 21.41c.39.39.9.59 1.41.59.51 0 1.02-.2 1.41-.59l7.78-7.78 2.81-2.81c.8-.78.8-2.07 0-2.86zM5.41 20L4 18.59l7.72-7.72 1.47 1.35L5.41 20z\"/>\n",
              "  </svg>\n",
              "      </button>\n",
              "      \n",
              "  <style>\n",
              "    .colab-df-container {\n",
              "      display:flex;\n",
              "      flex-wrap:wrap;\n",
              "      gap: 12px;\n",
              "    }\n",
              "\n",
              "    .colab-df-convert {\n",
              "      background-color: #E8F0FE;\n",
              "      border: none;\n",
              "      border-radius: 50%;\n",
              "      cursor: pointer;\n",
              "      display: none;\n",
              "      fill: #1967D2;\n",
              "      height: 32px;\n",
              "      padding: 0 0 0 0;\n",
              "      width: 32px;\n",
              "    }\n",
              "\n",
              "    .colab-df-convert:hover {\n",
              "      background-color: #E2EBFA;\n",
              "      box-shadow: 0px 1px 2px rgba(60, 64, 67, 0.3), 0px 1px 3px 1px rgba(60, 64, 67, 0.15);\n",
              "      fill: #174EA6;\n",
              "    }\n",
              "\n",
              "    [theme=dark] .colab-df-convert {\n",
              "      background-color: #3B4455;\n",
              "      fill: #D2E3FC;\n",
              "    }\n",
              "\n",
              "    [theme=dark] .colab-df-convert:hover {\n",
              "      background-color: #434B5C;\n",
              "      box-shadow: 0px 1px 3px 1px rgba(0, 0, 0, 0.15);\n",
              "      filter: drop-shadow(0px 1px 2px rgba(0, 0, 0, 0.3));\n",
              "      fill: #FFFFFF;\n",
              "    }\n",
              "  </style>\n",
              "\n",
              "      <script>\n",
              "        const buttonEl =\n",
              "          document.querySelector('#df-f948db20-caf9-4fb4-9b12-5e3b14bdb8b3 button.colab-df-convert');\n",
              "        buttonEl.style.display =\n",
              "          google.colab.kernel.accessAllowed ? 'block' : 'none';\n",
              "\n",
              "        async function convertToInteractive(key) {\n",
              "          const element = document.querySelector('#df-f948db20-caf9-4fb4-9b12-5e3b14bdb8b3');\n",
              "          const dataTable =\n",
              "            await google.colab.kernel.invokeFunction('convertToInteractive',\n",
              "                                                     [key], {});\n",
              "          if (!dataTable) return;\n",
              "\n",
              "          const docLinkHtml = 'Like what you see? Visit the ' +\n",
              "            '<a target=\"_blank\" href=https://colab.research.google.com/notebooks/data_table.ipynb>data table notebook</a>'\n",
              "            + ' to learn more about interactive tables.';\n",
              "          element.innerHTML = '';\n",
              "          dataTable['output_type'] = 'display_data';\n",
              "          await google.colab.output.renderOutput(dataTable, element);\n",
              "          const docLink = document.createElement('div');\n",
              "          docLink.innerHTML = docLinkHtml;\n",
              "          element.appendChild(docLink);\n",
              "        }\n",
              "      </script>\n",
              "    </div>\n",
              "  </div>\n",
              "  "
            ]
          },
          "metadata": {},
          "execution_count": 77
        }
      ]
    },
    {
      "cell_type": "code",
      "source": [
        "# selecionando colunas internas de objetos\n",
        "obejct_col = df.select_dtypes(include='object').columns.tolist()\n",
        "obejct_col"
      ],
      "metadata": {
        "colab": {
          "base_uri": "https://localhost:8080/"
        },
        "id": "rxtcGiv2V8-H",
        "outputId": "42d25975-67f0-44c5-d65b-fcda6a547602"
      },
      "execution_count": 78,
      "outputs": [
        {
          "output_type": "execute_result",
          "data": {
            "text/plain": [
              "['customerID',\n",
              " 'gender',\n",
              " 'Partner',\n",
              " 'Dependents',\n",
              " 'PhoneService',\n",
              " 'MultipleLines',\n",
              " 'InternetService',\n",
              " 'OnlineSecurity',\n",
              " 'OnlineBackup',\n",
              " 'DeviceProtection',\n",
              " 'TechSupport',\n",
              " 'StreamingTV',\n",
              " 'StreamingMovies',\n",
              " 'Contract',\n",
              " 'PaperlessBilling',\n",
              " 'PaymentMethod',\n",
              " 'TotalCharges',\n",
              " 'Churn']"
            ]
          },
          "metadata": {},
          "execution_count": 78
        }
      ]
    },
    {
      "cell_type": "code",
      "source": [
        "# remove colunas que não são realmente categóricas\n",
        "obejct_col.remove('customerID')\n",
        "obejct_col.remove('TotalCharges')\n",
        "obejct_col"
      ],
      "metadata": {
        "colab": {
          "base_uri": "https://localhost:8080/"
        },
        "id": "fMgbOp4UYkCM",
        "outputId": "b7e3f061-195b-4922-d70e-df5fded56a51"
      },
      "execution_count": 79,
      "outputs": [
        {
          "output_type": "execute_result",
          "data": {
            "text/plain": [
              "['gender',\n",
              " 'Partner',\n",
              " 'Dependents',\n",
              " 'PhoneService',\n",
              " 'MultipleLines',\n",
              " 'InternetService',\n",
              " 'OnlineSecurity',\n",
              " 'OnlineBackup',\n",
              " 'DeviceProtection',\n",
              " 'TechSupport',\n",
              " 'StreamingTV',\n",
              " 'StreamingMovies',\n",
              " 'Contract',\n",
              " 'PaperlessBilling',\n",
              " 'PaymentMethod',\n",
              " 'Churn']"
            ]
          },
          "metadata": {},
          "execution_count": 79
        }
      ]
    },
    {
      "cell_type": "code",
      "source": [
        "# criar conjunto de dados de rotatividade\n",
        "df_churn= df[df.Churn == \"Yes\" ]\n",
        "df_nochurn= df[df.Churn == \"No\" ]"
      ],
      "metadata": {
        "id": "qM7l1Z7_Y14D"
      },
      "execution_count": 80,
      "outputs": []
    },
    {
      "cell_type": "code",
      "source": [
        "# proporção de contratos mês a mês no conjunto de dados geral \n",
        "contract_general = (df[df.Contract=='Month-to-month'].value_counts().shape[0]/df.shape[0])*100\n",
        "\n",
        "# proporção de contratos mês a mês para clientes que mudam  \n",
        "contract_churn = (df_churn[df_churn.Contract=='Month-to-month'].value_counts().shape[0]/df_churn.shape[0])*100\n",
        "\n",
        "# proporção de contratos mês a mês para clientes que não desistiram  \n",
        "contract_nochurn = (df[(df.Churn=='No') & (df.Contract=='Month-to-month')].shape[0]/df[df.Churn=='No'].shape[0])*100"
      ],
      "metadata": {
        "id": "KhpON4f2Y9br"
      },
      "execution_count": 81,
      "outputs": []
    },
    {
      "cell_type": "code",
      "source": [
        "print('Porcentagem de contratos mensais: {:.2f}%'.format(contract_general))\n",
        "print('Porcentagem de contratos mensais de clientes que não mudaram: {:.2f}%'.format(contract_nochurn))\n",
        "print('Porcentagem de contratos mensais de clientes que mudaram: {:.2f}%'.format(contract_churn))\n",
        "\n",
        "# gráficos de comparação\n",
        "fig, (ax1,ax2) = plt.subplots(nrows= 1,ncols=2,figsize=(15,6))\n",
        "sns.countplot(x=\"Contract\", data =df,ax=ax1)\n",
        "ax1.set_title(\"Contratos em geral\")\n",
        "sns.countplot(x=\"Contract\", data =df_churn,ax=ax2)\n",
        "ax2.set_title(\"Contratos que mudaram\")\n",
        "\n",
        "plt.show()"
      ],
      "metadata": {
        "colab": {
          "base_uri": "https://localhost:8080/",
          "height": 456
        },
        "id": "iCIW9fmcZH6q",
        "outputId": "1b6499cc-4641-4021-af63-1b86e6cbc4d4"
      },
      "execution_count": 82,
      "outputs": [
        {
          "output_type": "stream",
          "name": "stdout",
          "text": [
            "Porcentagem de contratos mensais: 55.02%\n",
            "Porcentagem de contratos mensais de clientes que não mudaram: 42.91%\n",
            "Porcentagem de contratos mensais de clientes que mudaram: 88.55%\n"
          ]
        },
        {
          "output_type": "display_data",
          "data": {
            "text/plain": [
              "<Figure size 1080x432 with 2 Axes>"
            ],
            "image/png": "[encoded data removed]"
          },
          "metadata": {
            "needs_background": "light"
          }
        }
      ]
    },
    {
      "cell_type": "markdown",
      "source": [
        "Parceiro\n",
        "Para a empresa, talvez o ideal seja ter como clientes pessoas que tenham parceiros, pois se um não usa mas o outro sim, *provavelmente eles vão considerar com mais cuidado antes de cancelar o serviço.*"
      ],
      "metadata": {
        "id": "5Pl7OCk3mGnf"
      }
    },
    {
      "cell_type": "code",
      "source": [
        "# rotatividade de proporção de parceiro pra quem cancela o serviço\n",
        "partner_churn_yes = (df_churn[df_churn.Partner=='Yes'].shape[0]/df_churn.shape[0])*100\n",
        "partner_churn_no = (df_churn[df_churn.Partner=='No'].shape[0]/df_churn.shape[0])*100\n",
        "\n",
        "# rotatividade de proporção de parceiro para os clientes ativos\n",
        "partner_nochurn_yes = (df_nochurn[df_nochurn.Partner=='Yes'].shape[0]/df_nochurn.shape[0])*100\n",
        "partner_nochurn_no = (df_nochurn[df_nochurn.Partner=='No'].shape[0]/df_nochurn.shape[0])*100\n",
        "\n",
        "# printando resultados\n",
        "print('Clientes que não cancelaram (Ativos) e tinham parceiro {:.2f}%. \\n {:.2f} nao fizeram \\n Clientes que cancelaram e tinham parceiro {:.2f}%. \\n {:.2f} não fizeram'.format(partner_nochurn_yes,partner_nochurn_no,partner_churn_yes,partner_churn_no))"
      ],
      "metadata": {
        "colab": {
          "base_uri": "https://localhost:8080/"
        },
        "id": "NxFtBI-3mOSV",
        "outputId": "fdeb917c-8e16-4242-e204-323aa67cdb64"
      },
      "execution_count": 83,
      "outputs": [
        {
          "output_type": "stream",
          "name": "stdout",
          "text": [
            "Clientes que não cancelaram (Ativos) e tinham parceiro 52.82%. \n",
            " 47.18 nao fizeram \n",
            " Clientes que cancelaram e tinham parceiro 35.79%. \n",
            " 64.21 não fizeram\n"
          ]
        }
      ]
    },
    {
      "cell_type": "code",
      "source": [
        "'''\n",
        "Na análise exploratória é feita algumas observações para clientes que continuam na empresa (ativos) \n",
        "e clientes que cancelam o serviço (clientes churn).\n",
        "\n",
        "Agora, irei testar as hipóteses se clientes com algumas características \n",
        "ficam mais tempo no serviço ou não. Para isso utilizarei a biblioteca SciPy.\n",
        "\n",
        "O t-test exige que as distribuições sejam normais e variância igual. \n",
        "Por isso vamos usar funções auxiliares para testar se os grupos tem essas características.\n",
        "'''"
      ],
      "metadata": {
        "colab": {
          "base_uri": "https://localhost:8080/",
          "height": 87
        },
        "id": "23iEDBxpbfpg",
        "outputId": "6f498d3f-8764-4b14-8d02-2f4d653a5eb9"
      },
      "execution_count": 84,
      "outputs": [
        {
          "output_type": "execute_result",
          "data": {
            "text/plain": [
              "'\\nNa análise exploratória é feita algumas observações para clientes que continuam na empresa (ativos) \\ne clientes que cancelam o serviço (clientes churn).\\n\\nAgora, irei testar as hipóteses se clientes com algumas características \\nficam mais tempo no serviço ou não. Para isso utilizarei a biblioteca SciPy.\\n\\nO t-test exige que as distribuições sejam normais e variância igual. \\nPor isso vamos usar funções auxiliares para testar se os grupos tem essas características.\\n'"
            ],
            "application/vnd.google.colaboratory.intrinsic+json": {
              "type": "string"
            }
          },
          "metadata": {},
          "execution_count": 84
        }
      ]
    },
    {
      "cell_type": "code",
      "source": [
        "# Shapiro wilk - verificar se é normal\n",
        "def e_normal(group):\n",
        "  wval, pval = stats.shapiro(group)\n",
        "  if len(group) > 5000:\n",
        "    if wval <0.05: return (False)\n",
        "    if pval < 0.05: return (False)\n",
        "  return (True)\n",
        "\n",
        "# teste de variância igual\n",
        "def var_igual(group1,group2):\n",
        "  _,pval = stats.levene(group1,group2)\n",
        "  if pval<0.05: return (False)\n",
        "  return (True)"
      ],
      "metadata": {
        "id": "yhw8qsrZbuUH"
      },
      "execution_count": 85,
      "outputs": []
    },
    {
      "cell_type": "code",
      "source": [
        "# teste de hipótese\n",
        "def stats_test(group1, group2):\n",
        "  if e_normal(group1) and e_normal(group2):\n",
        "    if var_igual(group1,group2):\n",
        "      print(\"Realizando t-test...\")\n",
        "      return stats.ttest_ind(group1,group2)\n",
        "    print(\"Relizando t-test com variancia diferente...\")\n",
        "    return stats.ttest_ind(group1,group2, equal_var = False)\n",
        "  print(\"Realizando U-Test...\")\n",
        "  return mannwhitneyu(group1,group2)"
      ],
      "metadata": {
        "id": "wEneHxCUc_qx"
      },
      "execution_count": 86,
      "outputs": []
    },
    {
      "cell_type": "markdown",
      "source": [
        "**Questão 1:** O tipo do contrato influencia o Life-time do cliente?"
      ],
      "metadata": {
        "id": "Uqdhmdw8j9Pq"
      }
    },
    {
      "cell_type": "code",
      "source": [
        "'''\n",
        "Contratos com pequenas duração (mês a mês) os clientes tem mais possibilidades de cancelar o serviço. \n",
        "Em contratos mais longos essa possibilidade se reduz, por isso para muitas empresas é vantagem cobrar menos mensalmente por um contrato anual \n",
        "a fim de garantir que o LTV (life time value) seja maior que seu CAC (customer aquisition cost).\n",
        "'''\n",
        "df_churn_short= df_churn[df_churn.Contract == \"Month-to-month\" ].reset_index(drop = True)\n",
        "df_churn_long = df_churn[(df_churn.Contract == \"One year\")|(df_nochurn.Contract == \"Two year\")].reset_index(drop = True)\n",
        "df_nochurn_short= df_nochurn[df_nochurn.Contract == \"Month-to-month\" ].reset_index(drop = True)\n",
        "df_nochurn_long = df_nochurn[(df_nochurn.Contract == \"One year\")|(df_nochurn.Contract == \"Two year\")].reset_index(drop = True)"
      ],
      "metadata": {
        "colab": {
          "base_uri": "https://localhost:8080/"
        },
        "id": "oyHNSohjdMjU",
        "outputId": "5c952e83-ba20-4836-ded1-c5585c320605"
      },
      "execution_count": 87,
      "outputs": [
        {
          "output_type": "stream",
          "name": "stderr",
          "text": [
            "<ipython-input-87-711de1ca0ca8>:7: UserWarning: Boolean Series key will be reindexed to match DataFrame index.\n",
            "  df_churn_long = df_churn[(df_churn.Contract == \"One year\")|(df_nochurn.Contract == \"Two year\")].reset_index(drop = True)\n"
          ]
        }
      ]
    },
    {
      "cell_type": "markdown",
      "source": [
        "**Testando para clientes que cancelam o serviço**"
      ],
      "metadata": {
        "id": "XaCNxL1tiaPd"
      }
    },
    {
      "cell_type": "code",
      "source": [
        "'''\n",
        "tenure — variável que representa o tempo que o cliente fica ativo no serviço em meses.\n",
        "'''\n",
        "\n",
        "print(np.mean(df_churn_short.tenure)) # Tenure médio de contratos curtos\n",
        "print(np.mean(df_churn_long.tenure)) # Tenure médio de contratos longos"
      ],
      "metadata": {
        "colab": {
          "base_uri": "https://localhost:8080/"
        },
        "id": "Opb2mmsQe17C",
        "outputId": "f784b326-a740-408c-e169-523b670b793b"
      },
      "execution_count": 88,
      "outputs": [
        {
          "output_type": "stream",
          "name": "stdout",
          "text": [
            "14.016918429003022\n",
            "44.963855421686745\n"
          ]
        }
      ]
    },
    {
      "cell_type": "markdown",
      "source": [
        "# Vamos verificar se essa diferença é estatisticamente relevante com o teste de hipótese:\n",
        "\n",
        "*H0 - não existe diferença entre o life-time de clientes com contratos curtos ou longos*\n",
        "\n",
        "*HA - existe diferença entre o life-time de clientes com contratos curtos e longos*"
      ],
      "metadata": {
        "id": "z384AEApg11t"
      }
    },
    {
      "cell_type": "code",
      "source": [
        "# separar em grupos\n",
        "\n",
        "grupo1 = df_churn_long.tenure\n",
        "grupo2 = df_churn_short.tenure\n",
        "\n",
        "# testar a hipotese\n",
        "\n",
        "stats_test(grupo1, grupo2)"
      ],
      "metadata": {
        "colab": {
          "base_uri": "https://localhost:8080/"
        },
        "id": "ob1-FwSXhQed",
        "outputId": "aa025a6d-327e-45fd-e81a-75fa6d1e2de8"
      },
      "execution_count": 89,
      "outputs": [
        {
          "output_type": "stream",
          "name": "stdout",
          "text": [
            "Relizando t-test com variancia diferente...\n"
          ]
        },
        {
          "output_type": "execute_result",
          "data": {
            "text/plain": [
              "Ttest_indResult(statistic=20.94236959750065, pvalue=2.7136943151361676e-51)"
            ]
          },
          "metadata": {},
          "execution_count": 89
        }
      ]
    },
    {
      "cell_type": "markdown",
      "source": [
        "**p-value < 0.05 — H0 rejeitada**"
      ],
      "metadata": {
        "id": "s4yv_fQwiA6E"
      }
    },
    {
      "cell_type": "markdown",
      "source": [
        "**Testando para clientes ativos**"
      ],
      "metadata": {
        "id": "ad_PUhW5ikLL"
      }
    },
    {
      "cell_type": "code",
      "source": [
        "'''\n",
        "tenure — variável que representa o tempo que o cliente fica ativo no serviço em meses.\n",
        "'''\n",
        "\n",
        "print(np.mean(df_nochurn_short.tenure)) # Tenure médio de contratos curtos\n",
        "print(np.mean(df_nochurn_long.tenure)) # Tenure médio de contratos longos"
      ],
      "metadata": {
        "colab": {
          "base_uri": "https://localhost:8080/"
        },
        "id": "9M_qVmpXh-_1",
        "outputId": "1960b0b5-91e2-4493-c8bf-1ee4a02e7e08"
      },
      "execution_count": 90,
      "outputs": [
        {
          "output_type": "stream",
          "name": "stdout",
          "text": [
            "21.033333333333335\n",
            "49.997630331753555\n"
          ]
        }
      ]
    },
    {
      "cell_type": "markdown",
      "source": [
        "# Vamos verificar se essa diferença é estatisticamente relevante com o teste de hipótese:\n",
        "\n",
        "*H0 - não existe diferença entre o life-time de clientes com contratos curtos ou longos*\n",
        "\n",
        "*HA - existe diferença entre o life-time de clientes com contratos curtos e longos*"
      ],
      "metadata": {
        "id": "4VLgoQ_ajQeN"
      }
    },
    {
      "cell_type": "code",
      "source": [
        "# separar em grupos\n",
        "\n",
        "grupo1 = df_nochurn_long.tenure\n",
        "grupo2 = df_nochurn_short.tenure\n",
        "\n",
        "# testar a hipotese\n",
        "\n",
        "stats_test(grupo1, grupo2)"
      ],
      "metadata": {
        "colab": {
          "base_uri": "https://localhost:8080/"
        },
        "id": "xHiuH-p9jSiD",
        "outputId": "1006a675-27b1-456c-9144-201a9481648a"
      },
      "execution_count": 91,
      "outputs": [
        {
          "output_type": "stream",
          "name": "stdout",
          "text": [
            "Relizando t-test com variancia diferente...\n"
          ]
        },
        {
          "output_type": "execute_result",
          "data": {
            "text/plain": [
              "Ttest_indResult(statistic=53.850679397616425, pvalue=0.0)"
            ]
          },
          "metadata": {},
          "execution_count": 91
        }
      ]
    },
    {
      "cell_type": "markdown",
      "source": [
        "**p-value < 0.05 — H0 rejeitada**"
      ],
      "metadata": {
        "id": "jnS51p5NjePr"
      }
    },
    {
      "cell_type": "markdown",
      "source": [
        "Podemos então não negar que os clientes que tem contratos longos realmente ficam mais tempo em nossos serviços. Nesse sentido, uma boa alternativa é de que a empresa deve investir na aquisição de clientes com contratos mais longos e/ou transferir clientes com contratos curtos para longos."
      ],
      "metadata": {
        "id": "jalntC7SjhSa"
      }
    },
    {
      "cell_type": "markdown",
      "source": [
        "**Questão 2:** Será que os clientes que tem algum companheiro ficam mais tempo?"
      ],
      "metadata": {
        "id": "Aktl7rkWkHmp"
      }
    },
    {
      "cell_type": "code",
      "source": [
        "'''\n",
        "Durante o estudo foi observada um diferença na proporção de clientes que tinham parceiros entre os dois grupos. \n",
        "Foi observado que clientes que tinham parceiros ficam mais tempo no serviço. Podem ter várias explicações para isso,\n",
        "uma delas é que mesmo que um não use ou goste do serviço, o outro pode gostar, assim a assinatura é mantida. \n",
        "Para confirmar que essa diferença tem relevância estatística podemos fazer um teste de hipótese.\n",
        "'''\n",
        "\n",
        "# rotatividade de proporção de parceiro pra quem cancela o serviço\n",
        "partner_churn_yes = df_churn[df_churn.Partner=='Yes'].reset_index(drop = True)\n",
        "partner_churn_no = df_churn[df_churn.Partner=='No'].reset_index(drop = True)\n",
        "# rotatividade de proporção de parceiro para os clientes ativos\n",
        "partner_nochurn_yes = df_nochurn[df_nochurn.Partner=='Yes'].reset_index(drop = True)\n",
        "partner_nochurn_no = df_nochurn[df_nochurn.Partner=='No'].reset_index(drop = True)"
      ],
      "metadata": {
        "id": "OOK6qaWRrDe_"
      },
      "execution_count": 92,
      "outputs": []
    },
    {
      "cell_type": "markdown",
      "source": [
        "**Testando para clientes que cancelam o serviço**"
      ],
      "metadata": {
        "id": "qRnvq25PqMUG"
      }
    },
    {
      "cell_type": "code",
      "source": [
        "'''\n",
        "tenure — variável que representa o tempo que o cliente fica ativo no serviço em meses.\n",
        "'''\n",
        "\n",
        "print(np.mean(partner_churn_yes.tenure)) # Tenure médio de clientes com parceiros:\n",
        "print(np.mean(partner_churn_no.tenure)) # Tenure médio de clientes sem parceiros:"
      ],
      "metadata": {
        "colab": {
          "base_uri": "https://localhost:8080/"
        },
        "outputId": "fdeabce0-f61e-4b86-9016-4dbe32bb610b",
        "id": "WshyinZ9qMUP"
      },
      "execution_count": 93,
      "outputs": [
        {
          "output_type": "stream",
          "name": "stdout",
          "text": [
            "26.593423019431988\n",
            "13.176666666666666\n"
          ]
        }
      ]
    },
    {
      "cell_type": "markdown",
      "source": [
        "# Vamos verificar se essa diferença é estatisticamente relevante com o teste de hipótese:\n",
        "\n",
        "*H0 - não existe diferença entre o life-time de clientes com o fato de terem parceiros*\n",
        "\n",
        "*HA - existe diferença entre o life-time de clientes com o fato de terem parceiros*"
      ],
      "metadata": {
        "id": "_R47wjCHqMUQ"
      }
    },
    {
      "cell_type": "code",
      "source": [
        "# separar em grupos\n",
        "\n",
        "grupo1 = partner_churn_yes.tenure\n",
        "grupo2 = partner_churn_no.tenure\n",
        "\n",
        "# testar a hipotese\n",
        "\n",
        "stats_test(grupo1, grupo2)"
      ],
      "metadata": {
        "colab": {
          "base_uri": "https://localhost:8080/"
        },
        "outputId": "f9159499-b4ce-44a8-af0a-6cbdcfec0aab",
        "id": "v5zhWrNIqMUQ"
      },
      "execution_count": 94,
      "outputs": [
        {
          "output_type": "stream",
          "name": "stdout",
          "text": [
            "Relizando t-test com variancia diferente...\n"
          ]
        },
        {
          "output_type": "execute_result",
          "data": {
            "text/plain": [
              "Ttest_indResult(statistic=13.881169994193163, pvalue=1.9038182189270238e-40)"
            ]
          },
          "metadata": {},
          "execution_count": 94
        }
      ]
    },
    {
      "cell_type": "markdown",
      "source": [
        "**p-value < 0.05 — H0 rejeitada**  \n",
        "\n",
        "Rejeitamos a hipótese de que ter parceiros não faz diferença no período que esses cliente fica em nosso serviço."
      ],
      "metadata": {
        "id": "OdakB1dLqMUQ"
      }
    },
    {
      "cell_type": "markdown",
      "source": [
        "**Testando para clientes ativos**"
      ],
      "metadata": {
        "id": "z6cBAErsqMUR"
      }
    },
    {
      "cell_type": "code",
      "source": [
        "'''\n",
        "tenure — variável que representa o tempo que o cliente fica ativo no serviço em meses.\n",
        "'''\n",
        "\n",
        "print(np.mean(partner_nochurn_yes.tenure)) # Tenure médio de clientes com parceiros:\n",
        "print(np.mean(partner_nochurn_no.tenure)) # Tenure médio de clientes sem parceiros:"
      ],
      "metadata": {
        "colab": {
          "base_uri": "https://localhost:8080/"
        },
        "outputId": "6bcaf244-9c38-4940-dfd4-36c88d5f3c7f",
        "id": "zwl88Mk3qMUR"
      },
      "execution_count": 95,
      "outputs": [
        {
          "output_type": "stream",
          "name": "stdout",
          "text": [
            "45.793267471642885\n",
            "28.36296599754199\n"
          ]
        }
      ]
    },
    {
      "cell_type": "markdown",
      "source": [
        "# Vamos verificar se essa diferença é estatisticamente relevante com o teste de hipótese:\n",
        "\n",
        "*H0 - não existe diferença entre o life-time de clientes com o fato de terem parceiros*\n",
        "\n",
        "*HA - existe diferença entre o life-time de clientes com o fato de terem parceiros*"
      ],
      "metadata": {
        "id": "q0jie-z9qMUR"
      }
    },
    {
      "cell_type": "code",
      "source": [
        "# separar em grupos\n",
        "\n",
        "grupo1 = partner_nochurn_yes.tenure\n",
        "grupo2 = partner_nochurn_no.tenure\n",
        "\n",
        "# testar a hipotese\n",
        "\n",
        "stats_test(grupo1, grupo2)"
      ],
      "metadata": {
        "colab": {
          "base_uri": "https://localhost:8080/"
        },
        "outputId": "e85a39ed-c394-43c7-db05-81e48f65ce82",
        "id": "Wr2TXQF-qMUR"
      },
      "execution_count": 96,
      "outputs": [
        {
          "output_type": "stream",
          "name": "stdout",
          "text": [
            "Realizando t-test...\n"
          ]
        },
        {
          "output_type": "execute_result",
          "data": {
            "text/plain": [
              "Ttest_indResult(statistic=27.828286957272113, pvalue=6.086689207514799e-159)"
            ]
          },
          "metadata": {},
          "execution_count": 96
        }
      ]
    },
    {
      "cell_type": "markdown",
      "source": [
        "**p-value<0.05 — rejeitamos a hipótese nula**"
      ],
      "metadata": {
        "id": "-pj1pQ_xqMUR"
      }
    }
  ]
}